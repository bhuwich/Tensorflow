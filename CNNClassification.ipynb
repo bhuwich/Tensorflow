{
  "nbformat": 4,
  "nbformat_minor": 0,
  "metadata": {
    "colab": {
      "provenance": [],
      "authorship_tag": "ABX9TyM8F9lgg7RVHz8FGjaPJ5dY",
      "include_colab_link": true
    },
    "kernelspec": {
      "name": "python3",
      "display_name": "Python 3"
    },
    "language_info": {
      "name": "python"
    },
    "accelerator": "GPU",
    "gpuClass": "standard"
  },
  "cells": [
    {
      "cell_type": "markdown",
      "metadata": {
        "id": "view-in-github",
        "colab_type": "text"
      },
      "source": [
        "<a href=\"https://colab.research.google.com/github/bhuwich/Tensorflow/blob/main/CNNClassification.ipynb\" target=\"_parent\"><img src=\"https://colab.research.google.com/assets/colab-badge.svg\" alt=\"Open In Colab\"/></a>"
      ]
    },
    {
      "cell_type": "code",
      "execution_count": null,
      "metadata": {
        "id": "njoK6o5vwh01"
      },
      "outputs": [],
      "source": [
        "import tensorflow as tf\n",
        "import numpy as np\n",
        "import matplotlib.pyplot as plt\n",
        "import sklearn.metrics as skm\n",
        "import cv2"
      ]
    },
    {
      "cell_type": "code",
      "source": [
        "(x_train, y_train), (x_test,y_test) = tf.keras.datasets.mnist.load_data()"
      ],
      "metadata": {
        "id": "1WFJuzCUwo4S"
      },
      "execution_count": null,
      "outputs": []
    },
    {
      "cell_type": "code",
      "source": [
        "model = tf.keras.Sequential([\n",
        "    tf.keras.Input(shape=(28,28,1)),\n",
        "    tf.keras.layers.Conv2D(2,(3,3), strides=(1,1), padding='same', use_bias=False),\n",
        "    tf.keras.layers.Activation('relu'),\n",
        "    tf.keras.layers.MaxPool2D(pool_size=(2,2), strides=(2,2), padding='same'),\n",
        "    tf.keras.layers.Flatten(),\n",
        "    # tf.keras.layers.Dense(128, activation='tanh'),\n",
        "    tf.keras.layers.Dense(10, activation='softmax')\n",
        "\n",
        "])\n",
        "model.summary()"
      ],
      "metadata": {
        "colab": {
          "base_uri": "https://localhost:8080/"
        },
        "id": "BOo3-TIIwrTX",
        "outputId": "96c9aed0-35c1-4363-ebea-0c83891b3497"
      },
      "execution_count": null,
      "outputs": [
        {
          "output_type": "stream",
          "name": "stdout",
          "text": [
            "Model: \"sequential\"\n",
            "_________________________________________________________________\n",
            " Layer (type)                Output Shape              Param #   \n",
            "=================================================================\n",
            " conv2d (Conv2D)             (None, 28, 28, 2)         18        \n",
            "                                                                 \n",
            " activation (Activation)     (None, 28, 28, 2)         0         \n",
            "                                                                 \n",
            " max_pooling2d (MaxPooling2D  (None, 14, 14, 2)        0         \n",
            " )                                                               \n",
            "                                                                 \n",
            " flatten (Flatten)           (None, 392)               0         \n",
            "                                                                 \n",
            " dense (Dense)               (None, 10)                3930      \n",
            "                                                                 \n",
            "=================================================================\n",
            "Total params: 3,948\n",
            "Trainable params: 3,948\n",
            "Non-trainable params: 0\n",
            "_________________________________________________________________\n"
          ]
        }
      ]
    },
    {
      "cell_type": "markdown",
      "source": [
        "dense น้อยที่สุด และมีประสิทธิภาพสูงสุด\n",
        "\n",
        "ถ้า ข้อมูลน้อย dense ต้องน้อย\n",
        "\n",
        "ถ้า ข้อมูลเยอะ dense ต้องเยอะ\n",
        "\n",
        "ถ้าข้อมูลน้อยต้องออกแบบ feature exaction ดีๆ"
      ],
      "metadata": {
        "id": "LkkCGfTNz9LQ"
      }
    },
    {
      "cell_type": "code",
      "source": [
        "x_train = np.expand_dims(x_train, axis=-1)/255.0\n",
        "x_test = np.expand_dims(x_test,axis=-1)/255.0\n",
        "\n",
        "x_train.shape, x_test.shape"
      ],
      "metadata": {
        "colab": {
          "base_uri": "https://localhost:8080/"
        },
        "id": "Bql0-mHuyQhQ",
        "outputId": "47561bc1-3654-426a-bd48-fee43440946f"
      },
      "execution_count": null,
      "outputs": [
        {
          "output_type": "execute_result",
          "data": {
            "text/plain": [
              "((60000, 28, 28, 1), (10000, 28, 28, 1))"
            ]
          },
          "metadata": {},
          "execution_count": 4
        }
      ]
    },
    {
      "cell_type": "code",
      "source": [
        "model.output_shape"
      ],
      "metadata": {
        "colab": {
          "base_uri": "https://localhost:8080/"
        },
        "id": "lLl2Q0-X2Fky",
        "outputId": "65313335-f41e-4640-bf6f-f619c116b438"
      },
      "execution_count": null,
      "outputs": [
        {
          "output_type": "execute_result",
          "data": {
            "text/plain": [
              "(None, 10)"
            ]
          },
          "metadata": {},
          "execution_count": 5
        }
      ]
    },
    {
      "cell_type": "code",
      "source": [
        "tf.keras.utils.to_categorical(y_train)"
      ],
      "metadata": {
        "colab": {
          "base_uri": "https://localhost:8080/"
        },
        "id": "KsD11fQP2lNF",
        "outputId": "aba35b61-a909-4531-cdc5-6b2d3536cf53"
      },
      "execution_count": null,
      "outputs": [
        {
          "output_type": "execute_result",
          "data": {
            "text/plain": [
              "array([[0., 0., 0., ..., 0., 0., 0.],\n",
              "       [1., 0., 0., ..., 0., 0., 0.],\n",
              "       [0., 0., 0., ..., 0., 0., 0.],\n",
              "       ...,\n",
              "       [0., 0., 0., ..., 0., 0., 0.],\n",
              "       [0., 0., 0., ..., 0., 0., 0.],\n",
              "       [0., 0., 0., ..., 0., 1., 0.]], dtype=float32)"
            ]
          },
          "metadata": {},
          "execution_count": 6
        }
      ]
    },
    {
      "cell_type": "code",
      "source": [
        "y_train = tf.keras.utils.to_categorical(y_train)\n",
        "y_train.shape"
      ],
      "metadata": {
        "colab": {
          "base_uri": "https://localhost:8080/"
        },
        "id": "2VViPYUn21gP",
        "outputId": "a259355c-d66f-4320-802a-0c4dc2eb866a"
      },
      "execution_count": null,
      "outputs": [
        {
          "output_type": "execute_result",
          "data": {
            "text/plain": [
              "(60000, 10)"
            ]
          },
          "metadata": {},
          "execution_count": 7
        }
      ]
    },
    {
      "cell_type": "code",
      "source": [
        "model.compile(\n",
        "    optimizer = tf.keras.optimizers.Adam(),\n",
        "    loss = tf.keras.losses.CategoricalCrossentropy(),\n",
        "    metrics = ['accuracy']\n",
        ")"
      ],
      "metadata": {
        "id": "-01POAZ03LnT"
      },
      "execution_count": null,
      "outputs": []
    },
    {
      "cell_type": "code",
      "source": [
        "es =  tf.keras.callbacks.EarlyStopping(monitor='val_loss', mode='min',patience=10, verbose=1)\n",
        "mc = tf.keras.callbacks.ModelCheckpoint(\"best_model.h5\", monitor= 'val_loss', mode='min', save_best_only=True, verbose=1)"
      ],
      "metadata": {
        "id": "WfUdUh2A4HeT"
      },
      "execution_count": null,
      "outputs": []
    },
    {
      "cell_type": "code",
      "source": [
        "model.fit(\n",
        "    x_train, y_train,\n",
        "    validation_split = 0.3, # -> มันไม่ได้ shuffle ให้เรา\n",
        "    batch_size = 64,\n",
        "    callbacks =[es,mc],\n",
        "    epochs = 100000\n",
        ")"
      ],
      "metadata": {
        "colab": {
          "base_uri": "https://localhost:8080/"
        },
        "id": "gUodrCZk4kju",
        "outputId": "a81be6b9-686d-4539-f9e1-ec8f0487e997"
      },
      "execution_count": null,
      "outputs": [
        {
          "output_type": "stream",
          "name": "stdout",
          "text": [
            "Epoch 1/100000\n",
            "656/657 [============================>.] - ETA: 0s - loss: 0.2543 - accuracy: 0.9259\n",
            "Epoch 1: val_loss improved from 0.29377 to 0.22042, saving model to best_model.h5\n",
            "657/657 [==============================] - 4s 6ms/step - loss: 0.2542 - accuracy: 0.9260 - val_loss: 0.2204 - val_accuracy: 0.9373\n",
            "Epoch 2/100000\n",
            "645/657 [============================>.] - ETA: 0s - loss: 0.2050 - accuracy: 0.9402\n",
            "Epoch 2: val_loss improved from 0.22042 to 0.19243, saving model to best_model.h5\n",
            "657/657 [==============================] - 3s 4ms/step - loss: 0.2051 - accuracy: 0.9403 - val_loss: 0.1924 - val_accuracy: 0.9436\n",
            "Epoch 3/100000\n",
            "647/657 [============================>.] - ETA: 0s - loss: 0.1807 - accuracy: 0.9468\n",
            "Epoch 3: val_loss improved from 0.19243 to 0.17658, saving model to best_model.h5\n",
            "657/657 [==============================] - 3s 4ms/step - loss: 0.1807 - accuracy: 0.9469 - val_loss: 0.1766 - val_accuracy: 0.9492\n",
            "Epoch 4/100000\n",
            "645/657 [============================>.] - ETA: 0s - loss: 0.1654 - accuracy: 0.9516\n",
            "Epoch 4: val_loss improved from 0.17658 to 0.16700, saving model to best_model.h5\n",
            "657/657 [==============================] - 3s 4ms/step - loss: 0.1654 - accuracy: 0.9516 - val_loss: 0.1670 - val_accuracy: 0.9527\n",
            "Epoch 5/100000\n",
            "652/657 [============================>.] - ETA: 0s - loss: 0.1551 - accuracy: 0.9543\n",
            "Epoch 5: val_loss improved from 0.16700 to 0.16112, saving model to best_model.h5\n",
            "657/657 [==============================] - 3s 5ms/step - loss: 0.1549 - accuracy: 0.9544 - val_loss: 0.1611 - val_accuracy: 0.9533\n",
            "Epoch 6/100000\n",
            "643/657 [============================>.] - ETA: 0s - loss: 0.1476 - accuracy: 0.9564\n",
            "Epoch 6: val_loss improved from 0.16112 to 0.15488, saving model to best_model.h5\n",
            "657/657 [==============================] - 3s 4ms/step - loss: 0.1467 - accuracy: 0.9567 - val_loss: 0.1549 - val_accuracy: 0.9548\n",
            "Epoch 7/100000\n",
            "643/657 [============================>.] - ETA: 0s - loss: 0.1414 - accuracy: 0.9582\n",
            "Epoch 7: val_loss improved from 0.15488 to 0.15112, saving model to best_model.h5\n",
            "657/657 [==============================] - 3s 4ms/step - loss: 0.1406 - accuracy: 0.9583 - val_loss: 0.1511 - val_accuracy: 0.9552\n",
            "Epoch 8/100000\n",
            "652/657 [============================>.] - ETA: 0s - loss: 0.1355 - accuracy: 0.9606\n",
            "Epoch 8: val_loss improved from 0.15112 to 0.14751, saving model to best_model.h5\n",
            "657/657 [==============================] - 3s 4ms/step - loss: 0.1354 - accuracy: 0.9607 - val_loss: 0.1475 - val_accuracy: 0.9569\n",
            "Epoch 9/100000\n",
            "652/657 [============================>.] - ETA: 0s - loss: 0.1313 - accuracy: 0.9610\n",
            "Epoch 9: val_loss improved from 0.14751 to 0.14335, saving model to best_model.h5\n",
            "657/657 [==============================] - 3s 5ms/step - loss: 0.1313 - accuracy: 0.9610 - val_loss: 0.1433 - val_accuracy: 0.9586\n",
            "Epoch 10/100000\n",
            "657/657 [==============================] - ETA: 0s - loss: 0.1277 - accuracy: 0.9623\n",
            "Epoch 10: val_loss improved from 0.14335 to 0.14198, saving model to best_model.h5\n",
            "657/657 [==============================] - 3s 5ms/step - loss: 0.1277 - accuracy: 0.9623 - val_loss: 0.1420 - val_accuracy: 0.9579\n",
            "Epoch 11/100000\n",
            "642/657 [============================>.] - ETA: 0s - loss: 0.1247 - accuracy: 0.9632\n",
            "Epoch 11: val_loss did not improve from 0.14198\n",
            "657/657 [==============================] - 3s 4ms/step - loss: 0.1247 - accuracy: 0.9633 - val_loss: 0.1420 - val_accuracy: 0.9584\n",
            "Epoch 12/100000\n",
            "651/657 [============================>.] - ETA: 0s - loss: 0.1228 - accuracy: 0.9635\n",
            "Epoch 12: val_loss improved from 0.14198 to 0.13990, saving model to best_model.h5\n",
            "657/657 [==============================] - 3s 4ms/step - loss: 0.1226 - accuracy: 0.9635 - val_loss: 0.1399 - val_accuracy: 0.9578\n",
            "Epoch 13/100000\n",
            "651/657 [============================>.] - ETA: 0s - loss: 0.1203 - accuracy: 0.9648\n",
            "Epoch 13: val_loss improved from 0.13990 to 0.13979, saving model to best_model.h5\n",
            "657/657 [==============================] - 3s 5ms/step - loss: 0.1200 - accuracy: 0.9649 - val_loss: 0.1398 - val_accuracy: 0.9586\n",
            "Epoch 14/100000\n",
            "654/657 [============================>.] - ETA: 0s - loss: 0.1183 - accuracy: 0.9652\n",
            "Epoch 14: val_loss improved from 0.13979 to 0.13739, saving model to best_model.h5\n",
            "657/657 [==============================] - 3s 5ms/step - loss: 0.1182 - accuracy: 0.9652 - val_loss: 0.1374 - val_accuracy: 0.9587\n",
            "Epoch 15/100000\n",
            "647/657 [============================>.] - ETA: 0s - loss: 0.1149 - accuracy: 0.9660\n",
            "Epoch 15: val_loss did not improve from 0.13739\n",
            "657/657 [==============================] - 4s 6ms/step - loss: 0.1161 - accuracy: 0.9657 - val_loss: 0.1388 - val_accuracy: 0.9587\n",
            "Epoch 16/100000\n",
            "656/657 [============================>.] - ETA: 0s - loss: 0.1145 - accuracy: 0.9670\n",
            "Epoch 16: val_loss improved from 0.13739 to 0.13569, saving model to best_model.h5\n",
            "657/657 [==============================] - 3s 4ms/step - loss: 0.1145 - accuracy: 0.9670 - val_loss: 0.1357 - val_accuracy: 0.9601\n",
            "Epoch 17/100000\n",
            "650/657 [============================>.] - ETA: 0s - loss: 0.1133 - accuracy: 0.9676\n",
            "Epoch 17: val_loss improved from 0.13569 to 0.13535, saving model to best_model.h5\n",
            "657/657 [==============================] - 4s 6ms/step - loss: 0.1131 - accuracy: 0.9676 - val_loss: 0.1354 - val_accuracy: 0.9592\n",
            "Epoch 18/100000\n",
            "646/657 [============================>.] - ETA: 0s - loss: 0.1114 - accuracy: 0.9672\n",
            "Epoch 18: val_loss did not improve from 0.13535\n",
            "657/657 [==============================] - 3s 4ms/step - loss: 0.1116 - accuracy: 0.9671 - val_loss: 0.1360 - val_accuracy: 0.9597\n",
            "Epoch 19/100000\n",
            "653/657 [============================>.] - ETA: 0s - loss: 0.1100 - accuracy: 0.9680\n",
            "Epoch 19: val_loss did not improve from 0.13535\n",
            "657/657 [==============================] - 3s 4ms/step - loss: 0.1102 - accuracy: 0.9680 - val_loss: 0.1370 - val_accuracy: 0.9596\n",
            "Epoch 20/100000\n",
            "654/657 [============================>.] - ETA: 0s - loss: 0.1087 - accuracy: 0.9677\n",
            "Epoch 20: val_loss improved from 0.13535 to 0.13476, saving model to best_model.h5\n",
            "657/657 [==============================] - 4s 6ms/step - loss: 0.1085 - accuracy: 0.9678 - val_loss: 0.1348 - val_accuracy: 0.9600\n",
            "Epoch 21/100000\n",
            "648/657 [============================>.] - ETA: 0s - loss: 0.1080 - accuracy: 0.9684\n",
            "Epoch 21: val_loss did not improve from 0.13476\n",
            "657/657 [==============================] - 3s 5ms/step - loss: 0.1079 - accuracy: 0.9684 - val_loss: 0.1355 - val_accuracy: 0.9596\n",
            "Epoch 22/100000\n",
            "652/657 [============================>.] - ETA: 0s - loss: 0.1070 - accuracy: 0.9687\n",
            "Epoch 22: val_loss improved from 0.13476 to 0.13359, saving model to best_model.h5\n",
            "657/657 [==============================] - 3s 4ms/step - loss: 0.1067 - accuracy: 0.9688 - val_loss: 0.1336 - val_accuracy: 0.9611\n",
            "Epoch 23/100000\n",
            "653/657 [============================>.] - ETA: 0s - loss: 0.1065 - accuracy: 0.9688\n",
            "Epoch 23: val_loss did not improve from 0.13359\n",
            "657/657 [==============================] - 3s 4ms/step - loss: 0.1061 - accuracy: 0.9689 - val_loss: 0.1340 - val_accuracy: 0.9608\n",
            "Epoch 24/100000\n",
            "643/657 [============================>.] - ETA: 0s - loss: 0.1049 - accuracy: 0.9695\n",
            "Epoch 24: val_loss did not improve from 0.13359\n",
            "657/657 [==============================] - 3s 4ms/step - loss: 0.1055 - accuracy: 0.9692 - val_loss: 0.1346 - val_accuracy: 0.9607\n",
            "Epoch 25/100000\n",
            "647/657 [============================>.] - ETA: 0s - loss: 0.1045 - accuracy: 0.9691\n",
            "Epoch 25: val_loss did not improve from 0.13359\n",
            "657/657 [==============================] - 3s 5ms/step - loss: 0.1044 - accuracy: 0.9692 - val_loss: 0.1357 - val_accuracy: 0.9586\n",
            "Epoch 26/100000\n",
            "656/657 [============================>.] - ETA: 0s - loss: 0.1035 - accuracy: 0.9700\n",
            "Epoch 26: val_loss did not improve from 0.13359\n",
            "657/657 [==============================] - 3s 4ms/step - loss: 0.1035 - accuracy: 0.9700 - val_loss: 0.1371 - val_accuracy: 0.9605\n",
            "Epoch 27/100000\n",
            "649/657 [============================>.] - ETA: 0s - loss: 0.1030 - accuracy: 0.9697\n",
            "Epoch 27: val_loss did not improve from 0.13359\n",
            "657/657 [==============================] - 3s 4ms/step - loss: 0.1030 - accuracy: 0.9698 - val_loss: 0.1353 - val_accuracy: 0.9588\n",
            "Epoch 28/100000\n",
            "644/657 [============================>.] - ETA: 0s - loss: 0.1025 - accuracy: 0.9699\n",
            "Epoch 28: val_loss did not improve from 0.13359\n",
            "657/657 [==============================] - 3s 4ms/step - loss: 0.1022 - accuracy: 0.9700 - val_loss: 0.1370 - val_accuracy: 0.9596\n",
            "Epoch 29/100000\n",
            "650/657 [============================>.] - ETA: 0s - loss: 0.1011 - accuracy: 0.9701\n",
            "Epoch 29: val_loss did not improve from 0.13359\n",
            "657/657 [==============================] - 4s 6ms/step - loss: 0.1014 - accuracy: 0.9700 - val_loss: 0.1345 - val_accuracy: 0.9599\n",
            "Epoch 30/100000\n",
            "646/657 [============================>.] - ETA: 0s - loss: 0.1008 - accuracy: 0.9707\n",
            "Epoch 30: val_loss improved from 0.13359 to 0.13317, saving model to best_model.h5\n",
            "657/657 [==============================] - 3s 4ms/step - loss: 0.1010 - accuracy: 0.9706 - val_loss: 0.1332 - val_accuracy: 0.9609\n",
            "Epoch 31/100000\n",
            "650/657 [============================>.] - ETA: 0s - loss: 0.0998 - accuracy: 0.9706\n",
            "Epoch 31: val_loss did not improve from 0.13317\n",
            "657/657 [==============================] - 3s 4ms/step - loss: 0.1000 - accuracy: 0.9706 - val_loss: 0.1367 - val_accuracy: 0.9599\n",
            "Epoch 32/100000\n",
            "645/657 [============================>.] - ETA: 0s - loss: 0.0993 - accuracy: 0.9700\n",
            "Epoch 32: val_loss did not improve from 0.13317\n",
            "657/657 [==============================] - 3s 4ms/step - loss: 0.0994 - accuracy: 0.9699 - val_loss: 0.1348 - val_accuracy: 0.9606\n",
            "Epoch 33/100000\n",
            "644/657 [============================>.] - ETA: 0s - loss: 0.0990 - accuracy: 0.9699\n",
            "Epoch 33: val_loss did not improve from 0.13317\n",
            "657/657 [==============================] - 3s 4ms/step - loss: 0.0986 - accuracy: 0.9700 - val_loss: 0.1354 - val_accuracy: 0.9606\n",
            "Epoch 34/100000\n",
            "656/657 [============================>.] - ETA: 0s - loss: 0.0983 - accuracy: 0.9713\n",
            "Epoch 34: val_loss did not improve from 0.13317\n",
            "657/657 [==============================] - 3s 5ms/step - loss: 0.0983 - accuracy: 0.9713 - val_loss: 0.1391 - val_accuracy: 0.9589\n",
            "Epoch 35/100000\n",
            "648/657 [============================>.] - ETA: 0s - loss: 0.0979 - accuracy: 0.9709\n",
            "Epoch 35: val_loss did not improve from 0.13317\n",
            "657/657 [==============================] - 3s 4ms/step - loss: 0.0981 - accuracy: 0.9708 - val_loss: 0.1356 - val_accuracy: 0.9603\n",
            "Epoch 36/100000\n",
            "650/657 [============================>.] - ETA: 0s - loss: 0.0970 - accuracy: 0.9710\n",
            "Epoch 36: val_loss did not improve from 0.13317\n",
            "657/657 [==============================] - 3s 4ms/step - loss: 0.0969 - accuracy: 0.9710 - val_loss: 0.1362 - val_accuracy: 0.9603\n",
            "Epoch 37/100000\n",
            "657/657 [==============================] - ETA: 0s - loss: 0.0971 - accuracy: 0.9709\n",
            "Epoch 37: val_loss did not improve from 0.13317\n",
            "657/657 [==============================] - 3s 4ms/step - loss: 0.0971 - accuracy: 0.9709 - val_loss: 0.1346 - val_accuracy: 0.9605\n",
            "Epoch 38/100000\n",
            "646/657 [============================>.] - ETA: 0s - loss: 0.0964 - accuracy: 0.9716\n",
            "Epoch 38: val_loss did not improve from 0.13317\n",
            "657/657 [==============================] - 3s 5ms/step - loss: 0.0961 - accuracy: 0.9717 - val_loss: 0.1392 - val_accuracy: 0.9598\n",
            "Epoch 39/100000\n",
            "645/657 [============================>.] - ETA: 0s - loss: 0.0960 - accuracy: 0.9713\n",
            "Epoch 39: val_loss did not improve from 0.13317\n",
            "657/657 [==============================] - 3s 4ms/step - loss: 0.0959 - accuracy: 0.9713 - val_loss: 0.1343 - val_accuracy: 0.9613\n",
            "Epoch 40/100000\n",
            "652/657 [============================>.] - ETA: 0s - loss: 0.0954 - accuracy: 0.9723\n",
            "Epoch 40: val_loss did not improve from 0.13317\n",
            "657/657 [==============================] - 3s 4ms/step - loss: 0.0957 - accuracy: 0.9722 - val_loss: 0.1353 - val_accuracy: 0.9608\n",
            "Epoch 40: early stopping\n"
          ]
        },
        {
          "output_type": "execute_result",
          "data": {
            "text/plain": [
              "<keras.callbacks.History at 0x7f82b2537220>"
            ]
          },
          "metadata": {},
          "execution_count": 12
        }
      ]
    },
    {
      "cell_type": "code",
      "source": [
        "model = tf.keras.models.load_model(\"best_model.h5\")\n",
        "model.summary()"
      ],
      "metadata": {
        "colab": {
          "base_uri": "https://localhost:8080/"
        },
        "id": "I91AcYds6VJe",
        "outputId": "fce346b4-c68c-410b-f897-fafc50b5b370"
      },
      "execution_count": null,
      "outputs": [
        {
          "output_type": "stream",
          "name": "stdout",
          "text": [
            "Model: \"sequential\"\n",
            "_________________________________________________________________\n",
            " Layer (type)                Output Shape              Param #   \n",
            "=================================================================\n",
            " conv2d (Conv2D)             (None, 28, 28, 2)         18        \n",
            "                                                                 \n",
            " activation (Activation)     (None, 28, 28, 2)         0         \n",
            "                                                                 \n",
            " max_pooling2d (MaxPooling2D  (None, 14, 14, 2)        0         \n",
            " )                                                               \n",
            "                                                                 \n",
            " flatten (Flatten)           (None, 392)               0         \n",
            "                                                                 \n",
            " dense (Dense)               (None, 10)                3930      \n",
            "                                                                 \n",
            "=================================================================\n",
            "Total params: 3,948\n",
            "Trainable params: 3,948\n",
            "Non-trainable params: 0\n",
            "_________________________________________________________________\n"
          ]
        }
      ]
    },
    {
      "cell_type": "code",
      "source": [
        "output_test = model.predict(x_test)\n",
        "output_test.shape"
      ],
      "metadata": {
        "colab": {
          "base_uri": "https://localhost:8080/"
        },
        "id": "WeFQaQsf6cJk",
        "outputId": "ca565b9d-0254-4c2c-c7e2-4ee6a260b309"
      },
      "execution_count": null,
      "outputs": [
        {
          "output_type": "stream",
          "name": "stdout",
          "text": [
            "313/313 [==============================] - 1s 2ms/step\n"
          ]
        },
        {
          "output_type": "execute_result",
          "data": {
            "text/plain": [
              "(10000, 10)"
            ]
          },
          "metadata": {},
          "execution_count": 14
        }
      ]
    },
    {
      "cell_type": "code",
      "source": [
        "(output_test[0,:])"
      ],
      "metadata": {
        "colab": {
          "base_uri": "https://localhost:8080/"
        },
        "id": "qZFxx01N6o3B",
        "outputId": "99a01a50-be89-4928-a5e5-24fcb9d5e7c4"
      },
      "execution_count": null,
      "outputs": [
        {
          "output_type": "execute_result",
          "data": {
            "text/plain": [
              "array([1.45150281e-10, 6.79043207e-14, 1.17388215e-08, 1.47402416e-05,\n",
              "       2.54425184e-14, 2.70601874e-10, 2.20704601e-22, 9.99982953e-01,\n",
              "       1.13540978e-07, 2.15691193e-06], dtype=float32)"
            ]
          },
          "metadata": {},
          "execution_count": 16
        }
      ]
    },
    {
      "cell_type": "code",
      "source": [
        "plt.imshow(x_test[0,:,:,0], cmap='gray')"
      ],
      "metadata": {
        "colab": {
          "base_uri": "https://localhost:8080/",
          "height": 282
        },
        "id": "-ndFk3836yKI",
        "outputId": "1e3fbcf1-c9e6-45f0-e761-23f0c14f327f"
      },
      "execution_count": null,
      "outputs": [
        {
          "output_type": "execute_result",
          "data": {
            "text/plain": [
              "<matplotlib.image.AxesImage at 0x7f82b259daf0>"
            ]
          },
          "metadata": {},
          "execution_count": 17
        },
        {
          "output_type": "display_data",
          "data": {
            "text/plain": [
              "<Figure size 432x288 with 1 Axes>"
            ],
            "image/png": "[encoded data removed]"
          },
          "metadata": {
            "needs_background": "light"
          }
        }
      ]
    },
    {
      "cell_type": "code",
      "source": [
        "detect = np.argmax(output_test, axis=1)\n",
        "detect"
      ],
      "metadata": {
        "colab": {
          "base_uri": "https://localhost:8080/"
        },
        "id": "foE6GpPy7Afe",
        "outputId": "d5577d06-a598-4448-b089-d5312cdeb621"
      },
      "execution_count": null,
      "outputs": [
        {
          "output_type": "execute_result",
          "data": {
            "text/plain": [
              "array([7, 2, 1, ..., 4, 5, 6])"
            ]
          },
          "metadata": {},
          "execution_count": 20
        }
      ]
    },
    {
      "cell_type": "code",
      "source": [
        "print(skm.classification_report(y_test, detect))"
      ],
      "metadata": {
        "colab": {
          "base_uri": "https://localhost:8080/"
        },
        "id": "9Fx0FM947JtL",
        "outputId": "46e8e2dd-cc6c-4a97-e07b-4e31deaa0199"
      },
      "execution_count": null,
      "outputs": [
        {
          "output_type": "stream",
          "name": "stdout",
          "text": [
            "              precision    recall  f1-score   support\n",
            "\n",
            "           0       0.96      0.98      0.97       980\n",
            "           1       0.98      0.99      0.99      1135\n",
            "           2       0.96      0.96      0.96      1032\n",
            "           3       0.96      0.98      0.97      1010\n",
            "           4       0.98      0.97      0.97       982\n",
            "           5       0.98      0.97      0.98       892\n",
            "           6       0.98      0.97      0.98       958\n",
            "           7       0.95      0.95      0.95      1028\n",
            "           8       0.95      0.95      0.95       974\n",
            "           9       0.96      0.95      0.96      1009\n",
            "\n",
            "    accuracy                           0.97     10000\n",
            "   macro avg       0.97      0.97      0.97     10000\n",
            "weighted avg       0.97      0.97      0.97     10000\n",
            "\n"
          ]
        }
      ]
    },
    {
      "cell_type": "code",
      "source": [
        "feature_extractor = tf.keras.Sequential(\n",
        "    [tf.keras.Input(shape=(28,28,1))] + \\\n",
        "    model.layers[:3]\n",
        ")\n",
        "feature_extractor.summary()"
      ],
      "metadata": {
        "colab": {
          "base_uri": "https://localhost:8080/"
        },
        "id": "L68xG9oM7ss2",
        "outputId": "00043cb9-4ef0-4a51-a3f0-39d56cb498e6"
      },
      "execution_count": null,
      "outputs": [
        {
          "output_type": "stream",
          "name": "stdout",
          "text": [
            "Model: \"sequential_6\"\n",
            "_________________________________________________________________\n",
            " Layer (type)                Output Shape              Param #   \n",
            "=================================================================\n",
            " conv2d (Conv2D)             (None, 28, 28, 2)         18        \n",
            "                                                                 \n",
            " activation (Activation)     (None, 28, 28, 2)         0         \n",
            "                                                                 \n",
            " max_pooling2d (MaxPooling2D  (None, 14, 14, 2)        0         \n",
            " )                                                               \n",
            "                                                                 \n",
            "=================================================================\n",
            "Total params: 18\n",
            "Trainable params: 18\n",
            "Non-trainable params: 0\n",
            "_________________________________________________________________\n"
          ]
        }
      ]
    },
    {
      "cell_type": "code",
      "source": [
        "feature = feature_extractor.predict(x_test[0:1,:,:,:])\n",
        "feature.shape"
      ],
      "metadata": {
        "colab": {
          "base_uri": "https://localhost:8080/"
        },
        "id": "I1pGVxO68JiI",
        "outputId": "48b75aa3-87f9-4dc5-89da-0d3ad3e9d950"
      },
      "execution_count": null,
      "outputs": [
        {
          "output_type": "stream",
          "name": "stdout",
          "text": [
            "1/1 [==============================] - 0s 30ms/step\n"
          ]
        },
        {
          "output_type": "execute_result",
          "data": {
            "text/plain": [
              "(1, 14, 14, 2)"
            ]
          },
          "metadata": {},
          "execution_count": 29
        }
      ]
    },
    {
      "cell_type": "code",
      "source": [
        "plt.imshow(\n",
        "    cv2.hconcat([\n",
        "        feature[0,:,:,0],\n",
        "        feature[0,:,:,1],\n",
        "    ]), cmap='gray'\n",
        ")"
      ],
      "metadata": {
        "colab": {
          "base_uri": "https://localhost:8080/",
          "height": 232
        },
        "id": "UjkR_I2J9OXk",
        "outputId": "0ff7492c-80f7-4842-d0ea-bc41eb53676b"
      },
      "execution_count": null,
      "outputs": [
        {
          "output_type": "execute_result",
          "data": {
            "text/plain": [
              "<matplotlib.image.AxesImage at 0x7f82b2792a30>"
            ]
          },
          "metadata": {},
          "execution_count": 31
        },
        {
          "output_type": "display_data",
          "data": {
            "text/plain": [
              "<Figure size 432x288 with 1 Axes>"
            ],
            "image/png": "[encoded data removed]"
          },
          "metadata": {
            "needs_background": "light"
          }
        }
      ]
    },
    {
      "cell_type": "code",
      "source": [],
      "metadata": {
        "id": "B20MHx469i13"
      },
      "execution_count": null,
      "outputs": []
    }
  ]
}