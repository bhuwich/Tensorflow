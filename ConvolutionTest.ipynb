{
  "nbformat": 4,
  "nbformat_minor": 0,
  "metadata": {
    "colab": {
      "provenance": [],
      "authorship_tag": "ABX9TyMbAtv3O423NjeWSmLStY+N",
      "include_colab_link": true
    },
    "kernelspec": {
      "name": "python3",
      "display_name": "Python 3"
    },
    "language_info": {
      "name": "python"
    },
    "accelerator": "GPU",
    "gpuClass": "standard"
  },
  "cells": [
    {
      "cell_type": "markdown",
      "metadata": {
        "id": "view-in-github",
        "colab_type": "text"
      },
      "source": [
        "<a href=\"https://colab.research.google.com/github/bhuwich/Tensorflow/blob/main/ConvolutionTest.ipynb\" target=\"_parent\"><img src=\"https://colab.research.google.com/assets/colab-badge.svg\" alt=\"Open In Colab\"/></a>"
      ]
    },
    {
      "cell_type": "code",
      "execution_count": null,
      "metadata": {
        "id": "P2DSIDDwIvKf"
      },
      "outputs": [],
      "source": [
        "import tensorflow as tf\n",
        "import numpy as np\n",
        "import matplotlib.pyplot as plt"
      ]
    },
    {
      "cell_type": "code",
      "source": [
        "(x_train, y_train), (x_test,y_test) = tf.keras.datasets.mnist.load_data()"
      ],
      "metadata": {
        "id": "IHkfHLTsJEUp"
      },
      "execution_count": null,
      "outputs": []
    },
    {
      "cell_type": "code",
      "source": [
        "x_train.shape, y_train.shape"
      ],
      "metadata": {
        "colab": {
          "base_uri": "https://localhost:8080/"
        },
        "id": "Jf3WZJRaJPkj",
        "outputId": "e765be8a-34aa-41ce-d91a-de948d3b050c"
      },
      "execution_count": null,
      "outputs": [
        {
          "output_type": "execute_result",
          "data": {
            "text/plain": [
              "((60000, 28, 28), (60000,))"
            ]
          },
          "metadata": {},
          "execution_count": 30
        }
      ]
    },
    {
      "cell_type": "code",
      "source": [
        "import cv2"
      ],
      "metadata": {
        "id": "ECyHn04GXsjf"
      },
      "execution_count": null,
      "outputs": []
    },
    {
      "cell_type": "code",
      "source": [
        "plt.imshow(x_train[0, :, :],cmap='gray')"
      ],
      "metadata": {
        "colab": {
          "base_uri": "https://localhost:8080/",
          "height": 283
        },
        "id": "FfJHcxkdJRuJ",
        "outputId": "12658b92-2c8b-4d17-94c4-0fae93863a45"
      },
      "execution_count": null,
      "outputs": [
        {
          "output_type": "execute_result",
          "data": {
            "text/plain": [
              "<matplotlib.image.AxesImage at 0x7f1950cbc310>"
            ]
          },
          "metadata": {},
          "execution_count": 31
        },
        {
          "output_type": "display_data",
          "data": {
            "text/plain": [
              "<Figure size 432x288 with 1 Axes>"
            ],
            "image/png": "[encoded data removed]"
          },
          "metadata": {
            "needs_background": "light"
          }
        }
      ]
    },
    {
      "cell_type": "code",
      "source": [
        "model =tf.keras.Sequential(\n",
        "    [\n",
        "        tf.keras.Input(shape=(28,28,1)),\n",
        "        tf.keras.layers.Conv2D(2,(3,3), (1,1), \"same\",use_bias=False)\n",
        "    ]\n",
        ")\n",
        "model.summary()"
      ],
      "metadata": {
        "colab": {
          "base_uri": "https://localhost:8080/"
        },
        "id": "YEG1Z-YBMgrJ",
        "outputId": "3bde25cc-1aa8-42c7-c402-dd2a0fddede6"
      },
      "execution_count": null,
      "outputs": [
        {
          "output_type": "stream",
          "name": "stdout",
          "text": [
            "Model: \"sequential_2\"\n",
            "_________________________________________________________________\n",
            " Layer (type)                Output Shape              Param #   \n",
            "=================================================================\n",
            " conv2d_2 (Conv2D)           (None, 28, 28, 2)         18        \n",
            "                                                                 \n",
            "=================================================================\n",
            "Total params: 18\n",
            "Trainable params: 18\n",
            "Non-trainable params: 0\n",
            "_________________________________________________________________\n"
          ]
        }
      ]
    },
    {
      "cell_type": "code",
      "source": [
        "filters = np.array(model.layers[0].get_weights())\n",
        "filters.shape"
      ],
      "metadata": {
        "colab": {
          "base_uri": "https://localhost:8080/"
        },
        "id": "W2YOKjD6NIn1",
        "outputId": "52d50a2d-356b-4322-f02d-02c4a4e3fc1a"
      },
      "execution_count": null,
      "outputs": [
        {
          "output_type": "execute_result",
          "data": {
            "text/plain": [
              "(1, 3, 3, 1, 2)"
            ]
          },
          "metadata": {},
          "execution_count": 52
        }
      ]
    },
    {
      "cell_type": "code",
      "source": [
        "filters[0,:,:,0,0] = np.array(\n",
        "    [[-1,-1,-1],\n",
        "     [0,0,0],\n",
        "     [1,1,1]]\n",
        ")\n",
        "\n",
        "filters[0,:,:,0,1] = np.array(\n",
        "    [[-1,0,1],\n",
        "     [-1,0,1],\n",
        "     [-1,0,1]]\n",
        ")\n",
        "# [-1,0,1]\n",
        "# [-1,0,1]\n",
        "# [-1,0,1]\n",
        "#  หาedge แนวตั้ง ขวา-ซ้าย\n",
        "\n",
        "print(filters[0:,:,:,0,1])"
      ],
      "metadata": {
        "colab": {
          "base_uri": "https://localhost:8080/"
        },
        "id": "rSucMyFRNxIs",
        "outputId": "ca5bff5f-073c-4cee-a966-1cbc0c72ae71"
      },
      "execution_count": null,
      "outputs": [
        {
          "output_type": "stream",
          "name": "stdout",
          "text": [
            "[[[-1.  0.  1.]\n",
            "  [-1.  0.  1.]\n",
            "  [-1.  0.  1.]]]\n"
          ]
        }
      ]
    },
    {
      "cell_type": "code",
      "source": [
        "model.layers[0].set_weights(filters)\n",
        "#set weight"
      ],
      "metadata": {
        "id": "Un1imfP0OSBw"
      },
      "execution_count": null,
      "outputs": []
    },
    {
      "cell_type": "code",
      "source": [
        "x_train = np.expand_dims(x_train, axis=3)"
      ],
      "metadata": {
        "id": "5bd8RjpJO8Ws"
      },
      "execution_count": null,
      "outputs": []
    },
    {
      "cell_type": "code",
      "source": [
        "output = model.predict(x_train[0:1, :,:,:])\n",
        "output.shape"
      ],
      "metadata": {
        "colab": {
          "base_uri": "https://localhost:8080/"
        },
        "id": "hKIPX5odOag_",
        "outputId": "17d748a0-714e-419b-db84-02f117a13207"
      },
      "execution_count": null,
      "outputs": [
        {
          "output_type": "stream",
          "name": "stdout",
          "text": [
            "1/1 [==============================] - 0s 18ms/step\n"
          ]
        },
        {
          "output_type": "execute_result",
          "data": {
            "text/plain": [
              "(1, 28, 28, 2)"
            ]
          },
          "metadata": {},
          "execution_count": 60
        }
      ]
    },
    {
      "cell_type": "code",
      "source": [
        "plt.imshow(np.abs(output[0, :, :, 1]), cmap='gray')\n",
        "#edge แนวตั้ง"
      ],
      "metadata": {
        "colab": {
          "base_uri": "https://localhost:8080/",
          "height": 283
        },
        "id": "iB3UvGETPWyu",
        "outputId": "e787165b-924f-4561-e4d3-46bad62e689e"
      },
      "execution_count": null,
      "outputs": [
        {
          "output_type": "execute_result",
          "data": {
            "text/plain": [
              "<matplotlib.image.AxesImage at 0x7f1951776ca0>"
            ]
          },
          "metadata": {},
          "execution_count": 61
        },
        {
          "output_type": "display_data",
          "data": {
            "text/plain": [
              "<Figure size 432x288 with 1 Axes>"
            ],
            "image/png": "[encoded data removed]"
          },
          "metadata": {
            "needs_background": "light"
          }
        }
      ]
    },
    {
      "cell_type": "code",
      "source": [
        "plt.imshow(np.abs(output[0, :, :, 0]), cmap='gray')\n",
        "#edge แนวนอน"
      ],
      "metadata": {
        "colab": {
          "base_uri": "https://localhost:8080/",
          "height": 283
        },
        "id": "YxUBW3DXQUKG",
        "outputId": "38ebbef0-4e16-4eaf-e3cc-000801c8acb0"
      },
      "execution_count": null,
      "outputs": [
        {
          "output_type": "execute_result",
          "data": {
            "text/plain": [
              "<matplotlib.image.AxesImage at 0x7f195188c940>"
            ]
          },
          "metadata": {},
          "execution_count": 50
        },
        {
          "output_type": "display_data",
          "data": {
            "text/plain": [
              "<Figure size 432x288 with 1 Axes>"
            ],
            "image/png": "[encoded data removed]"
          },
          "metadata": {
            "needs_background": "light"
          }
        }
      ]
    },
    {
      "cell_type": "code",
      "source": [
        "output[0, :, :, 0]"
      ],
      "metadata": {
        "colab": {
          "base_uri": "https://localhost:8080/"
        },
        "id": "FSaysswVPMEH",
        "outputId": "c79b8bcd-fc37-4d1c-c5ce-8c2d0830da15"
      },
      "execution_count": null,
      "outputs": [
        {
          "output_type": "execute_result",
          "data": {
            "text/plain": [
              "array([[   0.,    0.,    0.,    0.,    0.,    0.,    0.,    0.,    0.,\n",
              "           0.,    0.,    0.,    0.,    0.,    0.,    0.,    0.,    0.,\n",
              "           0.,    0.,    0.,    0.,    0.,    0.,    0.,    0.,    0.,\n",
              "           0.],\n",
              "       [   0.,    0.,    0.,    0.,    0.,    0.,    0.,    0.,    0.,\n",
              "           0.,    0.,    0.,    0.,    0.,    0.,    0.,    0.,    0.,\n",
              "           0.,    0.,    0.,    0.,    0.,    0.,    0.,    0.,    0.,\n",
              "           0.],\n",
              "       [   0.,    0.,    0.,    0.,    0.,    0.,    0.,    0.,    0.,\n",
              "           0.,    0.,    0.,    0.,    0.,    0.,    0.,    0.,    0.,\n",
              "           0.,    0.,    0.,    0.,    0.,    0.,    0.,    0.,    0.,\n",
              "           0.],\n",
              "       [   0.,    0.,    0.,    0.,    0.,    0.,    0.,    0.,    0.,\n",
              "           0.,    0.,    0.,    0.,    0.,    0.,    0.,    0.,    0.,\n",
              "           0.,    0.,    0.,    0.,    0.,    0.,    0.,    0.,    0.,\n",
              "           0.],\n",
              "       [   0.,    0.,    0.,    0.,    0.,    0.,    0.,    0.,    0.,\n",
              "           0.,    0.,    3.,   18.,   15.,    0.,  108.,  118.,   49.,\n",
              "        -110.,   -9.,  229.,   81., -128., -247., -127.,    0.,    0.,\n",
              "           0.],\n",
              "       [   0.,    0.,    0.,    0.,    0.,    0.,    0.,   30.,   36.,\n",
              "          64.,  118.,   79.,  117.,   98.,    0.,  108.,  118.,   21.,\n",
              "        -191.,   19.,  299.,   23., -306., -442., -191.,    0.,    0.,\n",
              "           0.],\n",
              "       [   0.,    0.,    0.,    0.,    0.,    0.,   49.,  268.,  240.,\n",
              "          79.,  118.,   79.,  117.,   98.,    0.,  108.,  116., -139.,\n",
              "        -360.,    8.,  273.,  -20., -362., -481., -191.,    0.,    0.,\n",
              "           0.],\n",
              "       [   0.,    0.,    0.,    0.,    0.,    0.,   67.,  487.,  475.,\n",
              "         113.,  118.,   76.,   99.,   28.,  -71.,   49.,   57., -435.,\n",
              "        -491.,   17.,   44., -101., -234., -234.,  -64.,    0.,    0.,\n",
              "           0.],\n",
              "       [   0.,    0.,    0.,    0.,    0.,    0.,   67.,  537.,  595.,\n",
              "          76.,   97.,  146.,  -48., -297., -276.,   81.,  211., -450.,\n",
              "        -564.,  -11.,  -26.,  -43.,  -56.,  -39.,    0.,    0.,    0.,\n",
              "           0.],\n",
              "       [   0.,    0.,    0.,    0.,    0.,    0.,   18.,  299.,  405.,\n",
              "          62.,  237.,  398., -112., -550., -366.,   81.,  213., -290.,\n",
              "        -395.,    0.,    0.,    0.,    0.,    0.,    0.,    0.,    0.,\n",
              "           0.],\n",
              "       [   0.,    0.,    0.,    0.,    0.,    0.,    0.,   80.,  170.,\n",
              "          28.,  376.,  651.,  -61., -746., -485.,   30.,  154.,  -43.,\n",
              "        -154.,    0.,    0.,    0.,    0.,    0.,    0.,    0.,    0.,\n",
              "           0.],\n",
              "       [   0.,    0.,    0.,    0.,    0.,    0.,    0.,    0.,   14.,\n",
              "           1.,  290.,  695.,  229., -624., -533.,  -72.,    0.,    0.,\n",
              "           0.,    0.,    0.,    0.,    0.,    0.,    0.,    0.,    0.,\n",
              "           0.],\n",
              "       [   0.,    0.,    0.,    0.,    0.,    0.,    0.,    0.,    0.,\n",
              "           0.,  150.,  478.,  534., -181., -524., -189., -159., -108.,\n",
              "          -1.,    0.,    0.,    0.,    0.,    0.,    0.,    0.,    0.,\n",
              "           0.],\n",
              "       [   0.,    0.,    0.,    0.,    0.,    0.,    0.,    0.,    0.,\n",
              "           0.,   11.,  225.,  564.,  310., -162., -174., -293., -336.,\n",
              "        -120.,  -25.,    0.,    0.,    0.,    0.,    0.,    0.,    0.,\n",
              "           0.],\n",
              "       [   0.,    0.,    0.,    0.,    0.,    0.,    0.,    0.,    0.,\n",
              "           0.,    0.,   35.,  322.,  475.,  277.,  104., -226., -439.,\n",
              "        -346., -175.,  -27.,    0.,    0.,    0.,    0.,    0.,    0.,\n",
              "           0.],\n",
              "       [   0.,    0.,    0.,    0.,    0.,    0.,    0.,    0.,    0.,\n",
              "           0.,    0.,    0.,   81.,  285.,  374.,  314.,  169., -171.,\n",
              "        -410., -428., -214.,    0.,    0.,    0.,    0.,    0.,    0.,\n",
              "           0.],\n",
              "       [   0.,    0.,    0.,    0.,    0.,    0.,    0.,    0.,    0.,\n",
              "           0.,    0.,    0.,    0.,   45.,  202.,  301.,  552.,  310.,\n",
              "        -291., -592., -463.,  -64.,    0.,    0.,    0.,    0.,    0.,\n",
              "           0.],\n",
              "       [   0.,    0.,    0.,    0.,    0.,    0.,    0.,    0.,    0.,\n",
              "           0.,    0.,    0.,    0.,   46.,  146.,  230.,  608.,  483.,\n",
              "        -111., -693., -643.,  -66.,    0.,    0.,    0.,    0.,    0.,\n",
              "           0.],\n",
              "       [   0.,    0.,    0.,    0.,    0.,    0.,    0.,    0.,    0.,\n",
              "           0.,    0.,   39.,  148.,  236.,  235.,  161.,  372.,  320.,\n",
              "        -117., -690., -638.,  -66.,    0.,    0.,    0.,    0.,    0.,\n",
              "           0.],\n",
              "       [   0.,    0.,    0.,    0.,    0.,    0.,    0.,    0.,    0.,\n",
              "          24.,  114.,  236.,  287.,  268.,  235.,  161.,   71., -108.,\n",
              "        -318., -579., -389.,   -2.,    0.,    0.,    0.,    0.,    0.,\n",
              "           0.],\n",
              "       [   0.,    0.,    0.,    0.,    0.,    0.,    0.,   23.,   66.,\n",
              "         214.,  301.,  276.,  287.,  222.,   50., -148., -248., -259.,\n",
              "        -274., -328., -182.,    0.,    0.,    0.,    0.,    0.,    0.,\n",
              "           0.],\n",
              "       [   0.,    0.,    0.,    0.,    0.,   18.,  171.,  224.,  148.,\n",
              "         248.,  301.,  237.,   81., -141., -241., -252., -257., -256.,\n",
              "        -203.,  -78.,    0.,    0.,    0.,    0.,    0.,    0.,    0.,\n",
              "           0.],\n",
              "       [   0.,    0.,    0.,   55.,  172.,  189.,  252.,  251.,  148.,\n",
              "         224.,  178.,  -80., -291., -306., -252., -252., -205.,  -81.,\n",
              "          -2.,    0.,    0.,    0.,    0.,    0.,    0.,    0.,    0.,\n",
              "           0.],\n",
              "       [   0.,    0.,    0.,  191.,  425.,  306.,  252.,  187.,  -36.,\n",
              "         -46., -128., -252., -307., -306., -197.,  -80.,   -9.,    0.,\n",
              "           0.,    0.,    0.,    0.,    0.,    0.,    0.,    0.,    0.,\n",
              "           0.],\n",
              "       [   0.,    0.,    0.,  191.,  425.,  288.,   81.,  -14., -118.,\n",
              "         -80., -128., -252., -249., -133.,  -11.,    0.,    0.,    0.,\n",
              "           0.,    0.,    0.,    0.,    0.,    0.,    0.,    0.,    0.,\n",
              "           0.],\n",
              "       [   0.,    0.,    0.,  136.,  253.,  117.,    0.,  -41., -118.,\n",
              "         -80., -119., -132.,  -16.,    0.,    0.,    0.,    0.,    0.,\n",
              "           0.,    0.,    0.,    0.,    0.,    0.,    0.,    0.,    0.,\n",
              "           0.],\n",
              "       [   0.,    0.,    0.,    0.,    0.,    0.,    0.,    0.,    0.,\n",
              "           0.,    0.,    0.,    0.,    0.,    0.,    0.,    0.,    0.,\n",
              "           0.,    0.,    0.,    0.,    0.,    0.,    0.,    0.,    0.,\n",
              "           0.],\n",
              "       [   0.,    0.,    0.,    0.,    0.,    0.,    0.,    0.,    0.,\n",
              "           0.,    0.,    0.,    0.,    0.,    0.,    0.,    0.,    0.,\n",
              "           0.,    0.,    0.,    0.,    0.,    0.,    0.,    0.,    0.,\n",
              "           0.]], dtype=float32)"
            ]
          },
          "metadata": {},
          "execution_count": 40
        }
      ]
    },
    {
      "cell_type": "code",
      "source": [
        "plt.imshow(cv2.hconcat([np.abs(output[0, :, :, 0]),np.abs(output[0, :, :, 1])]), cmap='gray')"
      ],
      "metadata": {
        "colab": {
          "base_uri": "https://localhost:8080/",
          "height": 234
        },
        "id": "mwqPwqJHXudw",
        "outputId": "ea13366e-63f9-49a2-9b3b-aa7cd62835d7"
      },
      "execution_count": null,
      "outputs": [
        {
          "output_type": "execute_result",
          "data": {
            "text/plain": [
              "<matplotlib.image.AxesImage at 0x7f18ae0eae50>"
            ]
          },
          "metadata": {},
          "execution_count": 63
        },
        {
          "output_type": "display_data",
          "data": {
            "text/plain": [
              "<Figure size 432x288 with 1 Axes>"
            ],
            "image/png": "[encoded data removed]"
          },
          "metadata": {
            "needs_background": "light"
          }
        }
      ]
    }
  ]
}